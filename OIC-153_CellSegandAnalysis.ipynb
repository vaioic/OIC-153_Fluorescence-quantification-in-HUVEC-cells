{
 "cells": [
  {
   "cell_type": "code",
   "execution_count": null,
   "id": "485a02a9",
   "metadata": {},
   "outputs": [],
   "source": [
    "import skimage as sk\n",
    "from skimage.io import imread, imshow, imsave\n",
    "import numpy as np\n",
    "import os\n",
    "from glob import glob\n",
    "import napari\n",
    "from cellpose import models, io, utils\n",
    "import pandas as pd\n",
    "import pyclesperanto as cle\n",
    "from imaris_ims_file_reader.ims import ims\n",
    "from tqdm import tqdm"
   ]
  },
  {
   "cell_type": "code",
   "execution_count": null,
   "id": "86d8c2f3",
   "metadata": {},
   "outputs": [],
   "source": [
    "ims_files = sorted(glob('E:/ParadaKusz_Lab/OIC-153_Fluorescence-quantification-in-HUVEC-cells/H2DCFDA_05292025/**/*.ims',recursive=True))\n",
    "imgs = [ims(file,ResolutionLevelLock=0,write=True) for file in ims_files]\n"
   ]
  },
  {
   "cell_type": "code",
   "execution_count": null,
   "id": "a3fd5039",
   "metadata": {},
   "outputs": [],
   "source": [
    "all_img = [imgs[i][0,0,:,:,:] for i in range(len(imgs))]"
   ]
  },
  {
   "cell_type": "code",
   "execution_count": null,
   "id": "bf315210",
   "metadata": {},
   "outputs": [],
   "source": [
    "import random\n",
    "nums = range(len(all_img))\n",
    "i = random.randint(min(nums),max(nums))\n",
    "print(i)"
   ]
  },
  {
   "cell_type": "code",
   "execution_count": null,
   "id": "83fac9b4",
   "metadata": {},
   "outputs": [],
   "source": [
    "test_image = all_img[i]\n",
    "test_image.shape"
   ]
  },
  {
   "cell_type": "code",
   "execution_count": null,
   "id": "36557718",
   "metadata": {},
   "outputs": [],
   "source": [
    "viewer = napari.view_image(test_image)"
   ]
  },
  {
   "cell_type": "code",
   "execution_count": null,
   "id": "b2309540",
   "metadata": {},
   "outputs": [],
   "source": [
    "from cellpose import denoise"
   ]
  },
  {
   "cell_type": "code",
   "execution_count": null,
   "id": "75fc9964",
   "metadata": {},
   "outputs": [],
   "source": [
    "dn = denoise.DenoiseModel(model_type=\"denoise_cyto3\", gpu=True)\n",
    "imgs_dn = dn.eval(all_img, channels=None, diameter=50.)\n",
    "imgs_dn = [np.squeeze(img) for img in imgs_dn]"
   ]
  },
  {
   "cell_type": "code",
   "execution_count": null,
   "id": "044ac904",
   "metadata": {},
   "outputs": [],
   "source": [
    "imgs_dn.shape"
   ]
  },
  {
   "cell_type": "code",
   "execution_count": null,
   "id": "c8bb7b48",
   "metadata": {},
   "outputs": [],
   "source": [
    "def normalize_images(input_image,tophat_radius):\n",
    "    input_gpu = cle.push(input_image)\n",
    "    #normalizing the image stack\n",
    "    equalized_intensities_stack = cle.create_like(input_gpu)\n",
    "    a_slice = cle.create([input_gpu.shape[1], input_gpu.shape[2]])\n",
    "    num_slices = input_gpu.shape[0]\n",
    "    mean_intensity_stack = cle.mean_of_all_pixels(input_gpu)\n",
    "    corrected_slice = None\n",
    "    for z in range(0, num_slices):\n",
    "        # get a single slice out of the stack\n",
    "        cle.copy_slice(input_gpu, a_slice, z)\n",
    "        # measure its intensity\n",
    "        mean_intensity_slice = cle.mean_of_all_pixels(a_slice)\n",
    "        # correct the intensity\n",
    "        correction_factor = mean_intensity_slice/mean_intensity_stack\n",
    "        corrected_slice = cle.multiply_image_and_scalar(a_slice, corrected_slice, correction_factor)\n",
    "        # copy slice back in a stack\n",
    "        cle.copy_slice(corrected_slice, equalized_intensities_stack, z)\n",
    "    #background subtraction (increase the signal to noise ratio for improved segmentation results)\n",
    "    background_subtracted_top_hat = cle.top_hat_sphere(equalized_intensities_stack,radius_x=tophat_radius,radius_y=tophat_radius,radius_z=tophat_radius)\n",
    "    #pull data off gpu\n",
    "    input_pull = cle.pull(input_gpu)\n",
    "    background_subtracted_top_hat_pull = cle.pull(background_subtracted_top_hat)\n",
    "    equalized_intensities_stack_pull = cle.pull(equalized_intensities_stack)\n",
    "    return background_subtracted_top_hat_pull"
   ]
  },
  {
   "cell_type": "code",
   "execution_count": null,
   "id": "a34360f3",
   "metadata": {},
   "outputs": [],
   "source": [
    "cle.select_device(\"NVIDIA\")"
   ]
  },
  {
   "cell_type": "code",
   "execution_count": null,
   "id": "cd82f91d",
   "metadata": {},
   "outputs": [],
   "source": []
  },
  {
   "cell_type": "code",
   "execution_count": null,
   "id": "dd576ade",
   "metadata": {},
   "outputs": [],
   "source": [
    "io.logger_setup()\n",
    "model = models.CellposeModel(gpu=True,model_type=\"cyto3\") # model_type='cyto' or 'nuclei' or 'cyto2' or 'cyto3'\n",
    "channels =[[0,0]]\n",
    "masks, _, _ = model.eval(imgs_dn, channels=channels, flow_threshold=0.4,cellprob_threshold=0.0, diameter=60)\n"
   ]
  },
  {
   "cell_type": "code",
   "execution_count": null,
   "id": "4e28406a",
   "metadata": {},
   "outputs": [],
   "source": [
    "imgs_stack = np.stack(all_img)\n",
    "dn_imgs_stack = np.stack(imgs_dn)\n",
    "masks_stack = np.stack(masks)"
   ]
  },
  {
   "cell_type": "code",
   "execution_count": null,
   "id": "d56e75ab",
   "metadata": {},
   "outputs": [],
   "source": [
    "viewer = napari.view_image(imgs_stack,name='dn')\n",
    "viewer.add_image(dn_imgs_stack,name='denoise')\n",
    "viewer.add_labels(masks_stack,name='masks')"
   ]
  },
  {
   "cell_type": "code",
   "execution_count": null,
   "id": "13b31ffc",
   "metadata": {},
   "outputs": [],
   "source": [
    "corrected = normalize_images(imgs_stack,tophat_radius=10)"
   ]
  },
  {
   "cell_type": "code",
   "execution_count": null,
   "id": "1360fb7f",
   "metadata": {},
   "outputs": [],
   "source": []
  },
  {
   "cell_type": "code",
   "execution_count": null,
   "id": "7ab926a0",
   "metadata": {},
   "outputs": [],
   "source": [
    "io.logger_setup()\n",
    "model = models.CellposeModel(gpu=True,model_type=\"cyto3\") # model_type='cyto' or 'nuclei' or 'cyto2' or 'cyto3'\n",
    "channels =[[0,0]]\n",
    "masks, _, _ = model.eval(corrected, channels=channels, flow_threshold=0.4,cellprob_threshold=0.0, diameter=60)\n"
   ]
  },
  {
   "cell_type": "code",
   "execution_count": null,
   "id": "9d0f33ae",
   "metadata": {},
   "outputs": [],
   "source": [
    "masks_stack = np.stack(masks)"
   ]
  },
  {
   "cell_type": "code",
   "execution_count": null,
   "id": "00783cae",
   "metadata": {},
   "outputs": [],
   "source": [
    "viewer = napari.view_image(corrected)\n",
    "viewer.add_labels(masks, name='masks')"
   ]
  },
  {
   "cell_type": "code",
   "execution_count": null,
   "id": "d90a1996",
   "metadata": {},
   "outputs": [],
   "source": [
    "props = sk.measure.regionprops_table(masks,properties=('label','area'))"
   ]
  },
  {
   "cell_type": "code",
   "execution_count": null,
   "id": "05e809c0",
   "metadata": {},
   "outputs": [],
   "source": [
    "props"
   ]
  },
  {
   "cell_type": "code",
   "execution_count": null,
   "id": "d4da9866",
   "metadata": {},
   "outputs": [],
   "source": []
  }
 ],
 "metadata": {
  "kernelspec": {
   "display_name": "CellPose_CLE_Skan",
   "language": "python",
   "name": "cellpose_cle_skan"
  },
  "language_info": {
   "codemirror_mode": {
    "name": "ipython",
    "version": 3
   },
   "file_extension": ".py",
   "mimetype": "text/x-python",
   "name": "python",
   "nbconvert_exporter": "python",
   "pygments_lexer": "ipython3",
   "version": "3.10.16"
  }
 },
 "nbformat": 4,
 "nbformat_minor": 5
}
