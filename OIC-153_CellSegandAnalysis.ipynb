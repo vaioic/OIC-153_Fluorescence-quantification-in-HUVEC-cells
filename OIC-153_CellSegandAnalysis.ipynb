{
 "cells": [
  {
   "cell_type": "code",
   "execution_count": null,
   "id": "485a02a9",
   "metadata": {},
   "outputs": [],
   "source": [
    "import skimage as sk\n",
    "from skimage.io import imread, imshow, imsave\n",
    "import numpy as np\n",
    "import os\n",
    "from glob import glob\n",
    "import napari\n",
    "from cellpose import models, io, utils\n",
    "import pandas as pd\n",
    "import pyclesperanto as cle\n",
    "from imaris_ims_file_reader.ims import ims\n",
    "from tqdm import tqdm"
   ]
  },
  {
   "cell_type": "code",
   "execution_count": null,
   "id": "86d8c2f3",
   "metadata": {},
   "outputs": [],
   "source": [
    "ims_files = sorted(glob('E:/ParadaKusz_Lab/OIC-153_Fluorescence-quantification-in-HUVEC-cells/H2DCFDA_05292025/**/*.ims',recursive=True))\n",
    "imgs = [ims(file,ResolutionLevelLock=0,write=True) for file in ims_files]\n"
   ]
  },
  {
   "cell_type": "code",
   "execution_count": null,
   "id": "6401d80c",
   "metadata": {},
   "outputs": [],
   "source": [
    "len(imgs)"
   ]
  },
  {
   "cell_type": "code",
   "execution_count": null,
   "id": "a3fd5039",
   "metadata": {},
   "outputs": [],
   "source": [
    "all_img = [imgs[i][0,0,:,:,:] for i in range(len(imgs))]"
   ]
  },
  {
   "cell_type": "code",
   "execution_count": null,
   "id": "bf315210",
   "metadata": {},
   "outputs": [],
   "source": [
    "import random\n",
    "nums = range(len(all_img))\n",
    "i = random.randint(min(nums),max(nums))"
   ]
  },
  {
   "cell_type": "code",
   "execution_count": null,
   "id": "056accd3",
   "metadata": {},
   "outputs": [],
   "source": [
    "print(i)\n",
    "viewer = napari.view_image(all_img[i])"
   ]
  },
  {
   "cell_type": "code",
   "execution_count": null,
   "id": "0537c156",
   "metadata": {},
   "outputs": [],
   "source": []
  }
 ],
 "metadata": {
  "kernelspec": {
   "display_name": "CellPose_CLE_Skan",
   "language": "python",
   "name": "cellpose_cle_skan"
  },
  "language_info": {
   "codemirror_mode": {
    "name": "ipython",
    "version": 3
   },
   "file_extension": ".py",
   "mimetype": "text/x-python",
   "name": "python",
   "nbconvert_exporter": "python",
   "pygments_lexer": "ipython3",
   "version": "3.10.16"
  }
 },
 "nbformat": 4,
 "nbformat_minor": 5
}
